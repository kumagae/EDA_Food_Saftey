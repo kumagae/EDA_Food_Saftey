{
 "cells": [
  {
   "cell_type": "code",
   "execution_count": 1,
   "metadata": {},
   "outputs": [
    {
     "name": "stdout",
     "output_type": "stream",
     "text": [
      "Requirement already satisfied: requests in c:\\users\\ted kumagai\\appdata\\local\\programs\\python\\python36\\lib\\site-packages (2.24.0)\n",
      "Requirement already satisfied: idna<3,>=2.5 in c:\\users\\ted kumagai\\appdata\\local\\programs\\python\\python36\\lib\\site-packages (from requests) (2.10)\n",
      "Requirement already satisfied: urllib3!=1.25.0,!=1.25.1,<1.26,>=1.21.1 in c:\\users\\ted kumagai\\appdata\\local\\programs\\python\\python36\\lib\\site-packages (from requests) (1.25.10)\n",
      "Requirement already satisfied: certifi>=2017.4.17 in c:\\users\\ted kumagai\\appdata\\local\\programs\\python\\python36\\lib\\site-packages (from requests) (2020.6.20)\n",
      "Requirement already satisfied: chardet<4,>=3.0.2 in c:\\users\\ted kumagai\\appdata\\local\\programs\\python\\python36\\lib\\site-packages (from requests) (3.0.4)\n"
     ]
    },
    {
     "name": "stderr",
     "output_type": "stream",
     "text": [
      "WARNING: You are using pip version 20.1.1; however, version 20.2 is available.\n",
      "You should consider upgrading via the 'c:\\users\\ted kumagai\\appdata\\local\\programs\\python\\python36\\python.exe -m pip install --upgrade pip' command.\n"
     ]
    }
   ],
   "source": [
    "!pip install requests"
   ]
  },
  {
   "cell_type": "markdown",
   "metadata": {},
   "source": [
    "# Food Saftey Data EDA Project"
   ]
  },
  {
   "cell_type": "markdown",
   "metadata": {},
   "source": [
    "The purpose of this project was to familiarize myself with data importing, cleaning and exploratory data analysis with San Francisco area resturant data. \n"
   ]
  },
  {
   "cell_type": "code",
   "execution_count": 2,
   "metadata": {},
   "outputs": [],
   "source": [
    "import os\n",
    "import zipfile\n",
    "import pandas as pd\n",
    "import numpy as np\n",
    "import matplotlib.pyplot as plt\n",
    "import seaborn as sns\n",
    "%matplotlib inline\n",
    "sns.set()"
   ]
  },
  {
   "cell_type": "code",
   "execution_count": 3,
   "metadata": {},
   "outputs": [],
   "source": [
    "import sys\n",
    "\n",
    "assert 'zipfile'in sys.modules\n",
    "assert 'pandas'in sys.modules and pd\n",
    "assert 'numpy'in sys.modules and np\n",
    "assert 'matplotlib'in sys.modules and plt\n",
    "assert 'seaborn'in sys.modules and sns"
   ]
  },
  {
   "cell_type": "code",
   "execution_count": 4,
   "metadata": {},
   "outputs": [
    {
     "name": "stdout",
     "output_type": "stream",
     "text": [
      "Using cached version that was downloaded (UTC): Sun Aug  2 16:13:20 2020\n"
     ]
    }
   ],
   "source": [
    "import ds100_utils\n",
    "source_data_url = 'http://www.ds100.org/fa18/assets/datasets/hw2-SFBusinesses.zip'\n",
    "target_file_name = 'data.zip'\n",
    "data_dir = '.'\n",
    "\n",
    "# Change the force=False -> force=True in case you need to force redownload the data\n",
    "dest_path = ds100_utils.fetch_and_cache(data_url=source_data_url, data_dir=data_dir, file=target_file_name, force=False)"
   ]
  },
  {
   "cell_type": "code",
   "execution_count": 5,
   "metadata": {},
   "outputs": [
    {
     "name": "stdout",
     "output_type": "stream",
     "text": [
      "['violations.csv', 'businesses.csv', 'inspections.csv', 'legend.csv']\n"
     ]
    }
   ],
   "source": [
    "my_zip = zipfile.ZipFile('data.zip', 'r')\n",
    "list_names = [\"businesses\", \"inspections\", \"legend\", \"violations\"]\n",
    "\n",
    "#printing file names and sizes\n",
    "print([f.filename for f in my_zip.filelist])\n",
    "\n"
   ]
  },
  {
   "cell_type": "code",
   "execution_count": 6,
   "metadata": {},
   "outputs": [],
   "source": [
    "from pathlib import Path\n",
    "data_dir = Path('data')\n",
    "my_zip.extractall(data_dir)"
   ]
  },
  {
   "cell_type": "code",
   "execution_count": 7,
   "metadata": {},
   "outputs": [
    {
     "data": {
      "text/plain": [
       "['\"business_id\",\"date\",\"description\"\\n',\n",
       " '19,\"20171211\",\"Inadequate food safety knowledge or lack of certified food safety manager\"\\n',\n",
       " '19,\"20171211\",\"Unapproved or unmaintained equipment or utensils\"\\n',\n",
       " '19,\"20160513\",\"Unapproved or unmaintained equipment or utensils  [ date violation corrected: 12/11/2017 ]\"\\n',\n",
       " '19,\"20160513\",\"Unclean or degraded floors walls or ceilings  [ date violation corrected: 12/11/2017 ]\"\\n']"
      ]
     },
     "execution_count": 7,
     "metadata": {},
     "output_type": "execute_result"
    }
   ],
   "source": [
    "#Looking at the files\n",
    "ds100_utils.head('data/businesses.csv', 5)\n",
    "ds100_utils.head('data/inspections.csv',5)\n",
    "ds100_utils.head('data/legend.csv', 5)\n",
    "ds100_utils.head('data/violations.csv', 5)"
   ]
  },
  {
   "cell_type": "markdown",
   "metadata": {},
   "source": [
    "## Reading in Files for Food Saftey Data\n"
   ]
  },
  {
   "cell_type": "code",
   "execution_count": 8,
   "metadata": {},
   "outputs": [
    {
     "data": {
      "text/html": [
       "<div>\n",
       "<style scoped>\n",
       "    .dataframe tbody tr th:only-of-type {\n",
       "        vertical-align: middle;\n",
       "    }\n",
       "\n",
       "    .dataframe tbody tr th {\n",
       "        vertical-align: top;\n",
       "    }\n",
       "\n",
       "    .dataframe thead th {\n",
       "        text-align: right;\n",
       "    }\n",
       "</style>\n",
       "<table border=\"1\" class=\"dataframe\">\n",
       "  <thead>\n",
       "    <tr style=\"text-align: right;\">\n",
       "      <th></th>\n",
       "      <th>business_id</th>\n",
       "      <th>name</th>\n",
       "      <th>address</th>\n",
       "      <th>city</th>\n",
       "      <th>state</th>\n",
       "      <th>postal_code</th>\n",
       "      <th>latitude</th>\n",
       "      <th>longitude</th>\n",
       "      <th>phone_number</th>\n",
       "    </tr>\n",
       "  </thead>\n",
       "  <tbody>\n",
       "    <tr>\n",
       "      <th>0</th>\n",
       "      <td>19</td>\n",
       "      <td>NRGIZE LIFESTYLE CAFE</td>\n",
       "      <td>1200 VAN NESS AVE, 3RD FLOOR</td>\n",
       "      <td>San Francisco</td>\n",
       "      <td>CA</td>\n",
       "      <td>94109</td>\n",
       "      <td>37.786848</td>\n",
       "      <td>-122.421547</td>\n",
       "      <td>+14157763262</td>\n",
       "    </tr>\n",
       "    <tr>\n",
       "      <th>1</th>\n",
       "      <td>24</td>\n",
       "      <td>OMNI S.F. HOTEL - 2ND FLOOR PANTRY</td>\n",
       "      <td>500 CALIFORNIA ST, 2ND  FLOOR</td>\n",
       "      <td>San Francisco</td>\n",
       "      <td>CA</td>\n",
       "      <td>94104</td>\n",
       "      <td>37.792888</td>\n",
       "      <td>-122.403135</td>\n",
       "      <td>+14156779494</td>\n",
       "    </tr>\n",
       "    <tr>\n",
       "      <th>2</th>\n",
       "      <td>31</td>\n",
       "      <td>NORMAN'S ICE CREAM AND FREEZES</td>\n",
       "      <td>2801 LEAVENWORTH ST</td>\n",
       "      <td>San Francisco</td>\n",
       "      <td>CA</td>\n",
       "      <td>94133</td>\n",
       "      <td>37.807155</td>\n",
       "      <td>-122.419004</td>\n",
       "      <td>NaN</td>\n",
       "    </tr>\n",
       "    <tr>\n",
       "      <th>3</th>\n",
       "      <td>45</td>\n",
       "      <td>CHARLIE'S DELI CAFE</td>\n",
       "      <td>3202 FOLSOM ST</td>\n",
       "      <td>San Francisco</td>\n",
       "      <td>CA</td>\n",
       "      <td>94110</td>\n",
       "      <td>37.747114</td>\n",
       "      <td>-122.413641</td>\n",
       "      <td>+14156415051</td>\n",
       "    </tr>\n",
       "    <tr>\n",
       "      <th>4</th>\n",
       "      <td>48</td>\n",
       "      <td>ART'S CAFE</td>\n",
       "      <td>747 IRVING ST</td>\n",
       "      <td>San Francisco</td>\n",
       "      <td>CA</td>\n",
       "      <td>94122</td>\n",
       "      <td>37.764013</td>\n",
       "      <td>-122.465749</td>\n",
       "      <td>+14156657440</td>\n",
       "    </tr>\n",
       "  </tbody>\n",
       "</table>\n",
       "</div>"
      ],
      "text/plain": [
       "   business_id                                name  \\\n",
       "0           19               NRGIZE LIFESTYLE CAFE   \n",
       "1           24  OMNI S.F. HOTEL - 2ND FLOOR PANTRY   \n",
       "2           31      NORMAN'S ICE CREAM AND FREEZES   \n",
       "3           45                 CHARLIE'S DELI CAFE   \n",
       "4           48                          ART'S CAFE   \n",
       "\n",
       "                         address           city state postal_code   latitude  \\\n",
       "0   1200 VAN NESS AVE, 3RD FLOOR  San Francisco    CA       94109  37.786848   \n",
       "1  500 CALIFORNIA ST, 2ND  FLOOR  San Francisco    CA       94104  37.792888   \n",
       "2           2801 LEAVENWORTH ST   San Francisco    CA       94133  37.807155   \n",
       "3                3202 FOLSOM ST   San Francisco    CA       94110  37.747114   \n",
       "4                 747 IRVING ST   San Francisco    CA       94122  37.764013   \n",
       "\n",
       "    longitude  phone_number  \n",
       "0 -122.421547  +14157763262  \n",
       "1 -122.403135  +14156779494  \n",
       "2 -122.419004           NaN  \n",
       "3 -122.413641  +14156415051  \n",
       "4 -122.465749  +14156657440  "
      ]
     },
     "execution_count": 8,
     "metadata": {},
     "output_type": "execute_result"
    }
   ],
   "source": [
    "# path to directory containing data\n",
    "dsDir = Path('data')\n",
    "\n",
    "#defining variables for quick access to csv files.\n",
    "bus =  pd.read_csv(Path('data/businesses.csv'), encoding='ISO-8859-1')\n",
    "ins =  pd.read_csv(Path('data/inspections.csv'))\n",
    "vio = pd.read_csv(Path('data/violations.csv'))\n",
    "\n",
    "\n",
    "bus.head()"
   ]
  },
  {
   "cell_type": "code",
   "execution_count": 9,
   "metadata": {},
   "outputs": [
    {
     "data": {
      "text/html": [
       "<div>\n",
       "<style scoped>\n",
       "    .dataframe tbody tr th:only-of-type {\n",
       "        vertical-align: middle;\n",
       "    }\n",
       "\n",
       "    .dataframe tbody tr th {\n",
       "        vertical-align: top;\n",
       "    }\n",
       "\n",
       "    .dataframe thead th {\n",
       "        text-align: right;\n",
       "    }\n",
       "</style>\n",
       "<table border=\"1\" class=\"dataframe\">\n",
       "  <thead>\n",
       "    <tr style=\"text-align: right;\">\n",
       "      <th></th>\n",
       "      <th>business_id</th>\n",
       "      <th>score</th>\n",
       "      <th>date</th>\n",
       "      <th>type</th>\n",
       "    </tr>\n",
       "  </thead>\n",
       "  <tbody>\n",
       "    <tr>\n",
       "      <th>0</th>\n",
       "      <td>19</td>\n",
       "      <td>94</td>\n",
       "      <td>20160513</td>\n",
       "      <td>routine</td>\n",
       "    </tr>\n",
       "    <tr>\n",
       "      <th>1</th>\n",
       "      <td>19</td>\n",
       "      <td>94</td>\n",
       "      <td>20171211</td>\n",
       "      <td>routine</td>\n",
       "    </tr>\n",
       "    <tr>\n",
       "      <th>2</th>\n",
       "      <td>24</td>\n",
       "      <td>98</td>\n",
       "      <td>20171101</td>\n",
       "      <td>routine</td>\n",
       "    </tr>\n",
       "    <tr>\n",
       "      <th>3</th>\n",
       "      <td>24</td>\n",
       "      <td>98</td>\n",
       "      <td>20161005</td>\n",
       "      <td>routine</td>\n",
       "    </tr>\n",
       "    <tr>\n",
       "      <th>4</th>\n",
       "      <td>24</td>\n",
       "      <td>96</td>\n",
       "      <td>20160311</td>\n",
       "      <td>routine</td>\n",
       "    </tr>\n",
       "  </tbody>\n",
       "</table>\n",
       "</div>"
      ],
      "text/plain": [
       "   business_id  score      date     type\n",
       "0           19     94  20160513  routine\n",
       "1           19     94  20171211  routine\n",
       "2           24     98  20171101  routine\n",
       "3           24     98  20161005  routine\n",
       "4           24     96  20160311  routine"
      ]
     },
     "execution_count": 9,
     "metadata": {},
     "output_type": "execute_result"
    }
   ],
   "source": [
    "ins.head()"
   ]
  },
  {
   "cell_type": "code",
   "execution_count": 10,
   "metadata": {},
   "outputs": [
    {
     "data": {
      "text/html": [
       "<div>\n",
       "<style scoped>\n",
       "    .dataframe tbody tr th:only-of-type {\n",
       "        vertical-align: middle;\n",
       "    }\n",
       "\n",
       "    .dataframe tbody tr th {\n",
       "        vertical-align: top;\n",
       "    }\n",
       "\n",
       "    .dataframe thead th {\n",
       "        text-align: right;\n",
       "    }\n",
       "</style>\n",
       "<table border=\"1\" class=\"dataframe\">\n",
       "  <thead>\n",
       "    <tr style=\"text-align: right;\">\n",
       "      <th></th>\n",
       "      <th>business_id</th>\n",
       "      <th>date</th>\n",
       "      <th>description</th>\n",
       "    </tr>\n",
       "  </thead>\n",
       "  <tbody>\n",
       "    <tr>\n",
       "      <th>0</th>\n",
       "      <td>19</td>\n",
       "      <td>20171211</td>\n",
       "      <td>Inadequate food safety knowledge or lack of ce...</td>\n",
       "    </tr>\n",
       "    <tr>\n",
       "      <th>1</th>\n",
       "      <td>19</td>\n",
       "      <td>20171211</td>\n",
       "      <td>Unapproved or unmaintained equipment or utensils</td>\n",
       "    </tr>\n",
       "    <tr>\n",
       "      <th>2</th>\n",
       "      <td>19</td>\n",
       "      <td>20160513</td>\n",
       "      <td>Unapproved or unmaintained equipment or utensi...</td>\n",
       "    </tr>\n",
       "    <tr>\n",
       "      <th>3</th>\n",
       "      <td>19</td>\n",
       "      <td>20160513</td>\n",
       "      <td>Unclean or degraded floors walls or ceilings  ...</td>\n",
       "    </tr>\n",
       "    <tr>\n",
       "      <th>4</th>\n",
       "      <td>19</td>\n",
       "      <td>20160513</td>\n",
       "      <td>Food safety certificate or food handler card n...</td>\n",
       "    </tr>\n",
       "  </tbody>\n",
       "</table>\n",
       "</div>"
      ],
      "text/plain": [
       "   business_id      date                                        description\n",
       "0           19  20171211  Inadequate food safety knowledge or lack of ce...\n",
       "1           19  20171211   Unapproved or unmaintained equipment or utensils\n",
       "2           19  20160513  Unapproved or unmaintained equipment or utensi...\n",
       "3           19  20160513  Unclean or degraded floors walls or ceilings  ...\n",
       "4           19  20160513  Food safety certificate or food handler card n..."
      ]
     },
     "execution_count": 10,
     "metadata": {},
     "output_type": "execute_result"
    }
   ],
   "source": [
    "vio.head()"
   ]
  },
  {
   "cell_type": "code",
   "execution_count": 11,
   "metadata": {},
   "outputs": [
    {
     "data": {
      "text/html": [
       "<div>\n",
       "<style scoped>\n",
       "    .dataframe tbody tr th:only-of-type {\n",
       "        vertical-align: middle;\n",
       "    }\n",
       "\n",
       "    .dataframe tbody tr th {\n",
       "        vertical-align: top;\n",
       "    }\n",
       "\n",
       "    .dataframe thead th {\n",
       "        text-align: right;\n",
       "    }\n",
       "</style>\n",
       "<table border=\"1\" class=\"dataframe\">\n",
       "  <thead>\n",
       "    <tr style=\"text-align: right;\">\n",
       "      <th></th>\n",
       "      <th>business_id</th>\n",
       "      <th>latitude</th>\n",
       "      <th>longitude</th>\n",
       "    </tr>\n",
       "  </thead>\n",
       "  <tbody>\n",
       "    <tr>\n",
       "      <th>count</th>\n",
       "      <td>6406.000000</td>\n",
       "      <td>3270.000000</td>\n",
       "      <td>3270.000000</td>\n",
       "    </tr>\n",
       "    <tr>\n",
       "      <th>mean</th>\n",
       "      <td>53058.248049</td>\n",
       "      <td>37.773662</td>\n",
       "      <td>-122.425791</td>\n",
       "    </tr>\n",
       "    <tr>\n",
       "      <th>std</th>\n",
       "      <td>34928.238762</td>\n",
       "      <td>0.022910</td>\n",
       "      <td>0.027762</td>\n",
       "    </tr>\n",
       "    <tr>\n",
       "      <th>min</th>\n",
       "      <td>19.000000</td>\n",
       "      <td>37.668824</td>\n",
       "      <td>-122.510896</td>\n",
       "    </tr>\n",
       "    <tr>\n",
       "      <th>25%</th>\n",
       "      <td>7405.500000</td>\n",
       "      <td>37.760487</td>\n",
       "      <td>-122.436844</td>\n",
       "    </tr>\n",
       "    <tr>\n",
       "      <th>50%</th>\n",
       "      <td>68294.500000</td>\n",
       "      <td>37.780435</td>\n",
       "      <td>-122.418855</td>\n",
       "    </tr>\n",
       "    <tr>\n",
       "      <th>75%</th>\n",
       "      <td>83446.500000</td>\n",
       "      <td>37.789951</td>\n",
       "      <td>-122.406609</td>\n",
       "    </tr>\n",
       "    <tr>\n",
       "      <th>max</th>\n",
       "      <td>94574.000000</td>\n",
       "      <td>37.824494</td>\n",
       "      <td>-122.368257</td>\n",
       "    </tr>\n",
       "  </tbody>\n",
       "</table>\n",
       "</div>"
      ],
      "text/plain": [
       "        business_id     latitude    longitude\n",
       "count   6406.000000  3270.000000  3270.000000\n",
       "mean   53058.248049    37.773662  -122.425791\n",
       "std    34928.238762     0.022910     0.027762\n",
       "min       19.000000    37.668824  -122.510896\n",
       "25%     7405.500000    37.760487  -122.436844\n",
       "50%    68294.500000    37.780435  -122.418855\n",
       "75%    83446.500000    37.789951  -122.406609\n",
       "max    94574.000000    37.824494  -122.368257"
      ]
     },
     "execution_count": 11,
     "metadata": {},
     "output_type": "execute_result"
    }
   ],
   "source": [
    "#Summarizing files with the describe command\n",
    "bus.describe()"
   ]
  },
  {
   "cell_type": "code",
   "execution_count": 12,
   "metadata": {},
   "outputs": [
    {
     "data": {
      "text/html": [
       "<div>\n",
       "<style scoped>\n",
       "    .dataframe tbody tr th:only-of-type {\n",
       "        vertical-align: middle;\n",
       "    }\n",
       "\n",
       "    .dataframe tbody tr th {\n",
       "        vertical-align: top;\n",
       "    }\n",
       "\n",
       "    .dataframe thead th {\n",
       "        text-align: right;\n",
       "    }\n",
       "</style>\n",
       "<table border=\"1\" class=\"dataframe\">\n",
       "  <thead>\n",
       "    <tr style=\"text-align: right;\">\n",
       "      <th></th>\n",
       "      <th>business_id</th>\n",
       "      <th>score</th>\n",
       "      <th>date</th>\n",
       "    </tr>\n",
       "  </thead>\n",
       "  <tbody>\n",
       "    <tr>\n",
       "      <th>count</th>\n",
       "      <td>14222.000000</td>\n",
       "      <td>14222.000000</td>\n",
       "      <td>1.422200e+04</td>\n",
       "    </tr>\n",
       "    <tr>\n",
       "      <th>mean</th>\n",
       "      <td>45138.752637</td>\n",
       "      <td>90.697370</td>\n",
       "      <td>2.016242e+07</td>\n",
       "    </tr>\n",
       "    <tr>\n",
       "      <th>std</th>\n",
       "      <td>34497.913056</td>\n",
       "      <td>8.088705</td>\n",
       "      <td>8.082778e+03</td>\n",
       "    </tr>\n",
       "    <tr>\n",
       "      <th>min</th>\n",
       "      <td>19.000000</td>\n",
       "      <td>48.000000</td>\n",
       "      <td>2.015013e+07</td>\n",
       "    </tr>\n",
       "    <tr>\n",
       "      <th>25%</th>\n",
       "      <td>5634.000000</td>\n",
       "      <td>86.000000</td>\n",
       "      <td>2.016021e+07</td>\n",
       "    </tr>\n",
       "    <tr>\n",
       "      <th>50%</th>\n",
       "      <td>61462.000000</td>\n",
       "      <td>92.000000</td>\n",
       "      <td>2.016091e+07</td>\n",
       "    </tr>\n",
       "    <tr>\n",
       "      <th>75%</th>\n",
       "      <td>78074.000000</td>\n",
       "      <td>96.000000</td>\n",
       "      <td>2.017061e+07</td>\n",
       "    </tr>\n",
       "    <tr>\n",
       "      <th>max</th>\n",
       "      <td>94231.000000</td>\n",
       "      <td>100.000000</td>\n",
       "      <td>2.018012e+07</td>\n",
       "    </tr>\n",
       "  </tbody>\n",
       "</table>\n",
       "</div>"
      ],
      "text/plain": [
       "        business_id         score          date\n",
       "count  14222.000000  14222.000000  1.422200e+04\n",
       "mean   45138.752637     90.697370  2.016242e+07\n",
       "std    34497.913056      8.088705  8.082778e+03\n",
       "min       19.000000     48.000000  2.015013e+07\n",
       "25%     5634.000000     86.000000  2.016021e+07\n",
       "50%    61462.000000     92.000000  2.016091e+07\n",
       "75%    78074.000000     96.000000  2.017061e+07\n",
       "max    94231.000000    100.000000  2.018012e+07"
      ]
     },
     "execution_count": 12,
     "metadata": {},
     "output_type": "execute_result"
    }
   ],
   "source": [
    "ins.describe()"
   ]
  },
  {
   "cell_type": "code",
   "execution_count": 13,
   "metadata": {},
   "outputs": [
    {
     "data": {
      "text/html": [
       "<div>\n",
       "<style scoped>\n",
       "    .dataframe tbody tr th:only-of-type {\n",
       "        vertical-align: middle;\n",
       "    }\n",
       "\n",
       "    .dataframe tbody tr th {\n",
       "        vertical-align: top;\n",
       "    }\n",
       "\n",
       "    .dataframe thead th {\n",
       "        text-align: right;\n",
       "    }\n",
       "</style>\n",
       "<table border=\"1\" class=\"dataframe\">\n",
       "  <thead>\n",
       "    <tr style=\"text-align: right;\">\n",
       "      <th></th>\n",
       "      <th>business_id</th>\n",
       "      <th>date</th>\n",
       "    </tr>\n",
       "  </thead>\n",
       "  <tbody>\n",
       "    <tr>\n",
       "      <th>count</th>\n",
       "      <td>39042.000000</td>\n",
       "      <td>3.904200e+04</td>\n",
       "    </tr>\n",
       "    <tr>\n",
       "      <th>mean</th>\n",
       "      <td>45674.440244</td>\n",
       "      <td>2.016283e+07</td>\n",
       "    </tr>\n",
       "    <tr>\n",
       "      <th>std</th>\n",
       "      <td>34172.433276</td>\n",
       "      <td>7.874679e+03</td>\n",
       "    </tr>\n",
       "    <tr>\n",
       "      <th>min</th>\n",
       "      <td>19.000000</td>\n",
       "      <td>2.015013e+07</td>\n",
       "    </tr>\n",
       "    <tr>\n",
       "      <th>25%</th>\n",
       "      <td>4959.000000</td>\n",
       "      <td>2.016031e+07</td>\n",
       "    </tr>\n",
       "    <tr>\n",
       "      <th>50%</th>\n",
       "      <td>62060.000000</td>\n",
       "      <td>2.016092e+07</td>\n",
       "    </tr>\n",
       "    <tr>\n",
       "      <th>75%</th>\n",
       "      <td>77681.000000</td>\n",
       "      <td>2.017063e+07</td>\n",
       "    </tr>\n",
       "    <tr>\n",
       "      <th>max</th>\n",
       "      <td>94231.000000</td>\n",
       "      <td>2.018012e+07</td>\n",
       "    </tr>\n",
       "  </tbody>\n",
       "</table>\n",
       "</div>"
      ],
      "text/plain": [
       "        business_id          date\n",
       "count  39042.000000  3.904200e+04\n",
       "mean   45674.440244  2.016283e+07\n",
       "std    34172.433276  7.874679e+03\n",
       "min       19.000000  2.015013e+07\n",
       "25%     4959.000000  2.016031e+07\n",
       "50%    62060.000000  2.016092e+07\n",
       "75%    77681.000000  2.017063e+07\n",
       "max    94231.000000  2.018012e+07"
      ]
     },
     "execution_count": 13,
     "metadata": {},
     "output_type": "execute_result"
    }
   ],
   "source": [
    "vio.describe()"
   ]
  },
  {
   "cell_type": "markdown",
   "metadata": {},
   "source": [
    "The buisnesses csv file does not have any dates"
   ]
  },
  {
   "cell_type": "markdown",
   "metadata": {},
   "source": [
    "## Examining Buisness Data"
   ]
  },
  {
   "cell_type": "code",
   "execution_count": 14,
   "metadata": {},
   "outputs": [],
   "source": [
    "#checking if each record is unique\n",
    "x = bus.business_id.value_counts()\n",
    "\n",
    "if (len(x) == len(bus.business_id.unique())) == True:\n",
    "    is_business_id_unique = True\n",
    "\n",
    "#if error, then false. But running the code yeilds no results, hence, True. \n",
    "assert is_business_id_unique"
   ]
  },
  {
   "cell_type": "code",
   "execution_count": 15,
   "metadata": {},
   "outputs": [
    {
     "name": "stdout",
     "output_type": "stream",
     "text": [
      "2047     1\n",
      "71088    1\n",
      "5528     1\n",
      "89497    1\n",
      "16513    1\n",
      "        ..\n",
      "81342    1\n",
      "21143    1\n",
      "64154    1\n",
      "2716     1\n",
      "83969    1\n",
      "Name: business_id, Length: 6406, dtype: int64\n"
     ]
    }
   ],
   "source": [
    "#1. 6406 entries in this record.  \n",
    "print(x)"
   ]
  },
  {
   "cell_type": "code",
   "execution_count": 16,
   "metadata": {},
   "outputs": [
    {
     "data": {
      "text/html": [
       "<div>\n",
       "<style scoped>\n",
       "    .dataframe tbody tr th:only-of-type {\n",
       "        vertical-align: middle;\n",
       "    }\n",
       "\n",
       "    .dataframe tbody tr th {\n",
       "        vertical-align: top;\n",
       "    }\n",
       "\n",
       "    .dataframe thead th {\n",
       "        text-align: right;\n",
       "    }\n",
       "</style>\n",
       "<table border=\"1\" class=\"dataframe\">\n",
       "  <thead>\n",
       "    <tr style=\"text-align: right;\">\n",
       "      <th></th>\n",
       "      <th>business_id</th>\n",
       "      <th>name</th>\n",
       "      <th>address</th>\n",
       "      <th>city</th>\n",
       "      <th>state</th>\n",
       "      <th>postal_code</th>\n",
       "      <th>latitude</th>\n",
       "      <th>longitude</th>\n",
       "      <th>phone_number</th>\n",
       "    </tr>\n",
       "  </thead>\n",
       "  <tbody>\n",
       "    <tr>\n",
       "      <th>0</th>\n",
       "      <td>19</td>\n",
       "      <td>NRGIZE LIFESTYLE CAFE</td>\n",
       "      <td>1200 VAN NESS AVE, 3RD FLOOR</td>\n",
       "      <td>San Francisco</td>\n",
       "      <td>CA</td>\n",
       "      <td>94109</td>\n",
       "      <td>37.786848</td>\n",
       "      <td>-122.421547</td>\n",
       "      <td>+14157763262</td>\n",
       "    </tr>\n",
       "    <tr>\n",
       "      <th>1</th>\n",
       "      <td>24</td>\n",
       "      <td>OMNI S.F. HOTEL - 2ND FLOOR PANTRY</td>\n",
       "      <td>500 CALIFORNIA ST, 2ND  FLOOR</td>\n",
       "      <td>San Francisco</td>\n",
       "      <td>CA</td>\n",
       "      <td>94104</td>\n",
       "      <td>37.792888</td>\n",
       "      <td>-122.403135</td>\n",
       "      <td>+14156779494</td>\n",
       "    </tr>\n",
       "    <tr>\n",
       "      <th>2</th>\n",
       "      <td>31</td>\n",
       "      <td>NORMAN'S ICE CREAM AND FREEZES</td>\n",
       "      <td>2801 LEAVENWORTH ST</td>\n",
       "      <td>San Francisco</td>\n",
       "      <td>CA</td>\n",
       "      <td>94133</td>\n",
       "      <td>37.807155</td>\n",
       "      <td>-122.419004</td>\n",
       "      <td>NaN</td>\n",
       "    </tr>\n",
       "    <tr>\n",
       "      <th>3</th>\n",
       "      <td>45</td>\n",
       "      <td>CHARLIE'S DELI CAFE</td>\n",
       "      <td>3202 FOLSOM ST</td>\n",
       "      <td>San Francisco</td>\n",
       "      <td>CA</td>\n",
       "      <td>94110</td>\n",
       "      <td>37.747114</td>\n",
       "      <td>-122.413641</td>\n",
       "      <td>+14156415051</td>\n",
       "    </tr>\n",
       "    <tr>\n",
       "      <th>4</th>\n",
       "      <td>48</td>\n",
       "      <td>ART'S CAFE</td>\n",
       "      <td>747 IRVING ST</td>\n",
       "      <td>San Francisco</td>\n",
       "      <td>CA</td>\n",
       "      <td>94122</td>\n",
       "      <td>37.764013</td>\n",
       "      <td>-122.465749</td>\n",
       "      <td>+14156657440</td>\n",
       "    </tr>\n",
       "  </tbody>\n",
       "</table>\n",
       "</div>"
      ],
      "text/plain": [
       "   business_id                                name  \\\n",
       "0           19               NRGIZE LIFESTYLE CAFE   \n",
       "1           24  OMNI S.F. HOTEL - 2ND FLOOR PANTRY   \n",
       "2           31      NORMAN'S ICE CREAM AND FREEZES   \n",
       "3           45                 CHARLIE'S DELI CAFE   \n",
       "4           48                          ART'S CAFE   \n",
       "\n",
       "                         address           city state postal_code   latitude  \\\n",
       "0   1200 VAN NESS AVE, 3RD FLOOR  San Francisco    CA       94109  37.786848   \n",
       "1  500 CALIFORNIA ST, 2ND  FLOOR  San Francisco    CA       94104  37.792888   \n",
       "2           2801 LEAVENWORTH ST   San Francisco    CA       94133  37.807155   \n",
       "3                3202 FOLSOM ST   San Francisco    CA       94110  37.747114   \n",
       "4                 747 IRVING ST   San Francisco    CA       94122  37.764013   \n",
       "\n",
       "    longitude  phone_number  \n",
       "0 -122.421547  +14157763262  \n",
       "1 -122.403135  +14156779494  \n",
       "2 -122.419004           NaN  \n",
       "3 -122.413641  +14156415051  \n",
       "4 -122.465749  +14156657440  "
      ]
     },
     "execution_count": 16,
     "metadata": {},
     "output_type": "execute_result"
    }
   ],
   "source": [
    "#2. Each record represents, from left to right: the business_id, name of store, physical address, city, \n",
    "#   state, postal code, and latitude and logitude coordinates.\n",
    "\n",
    "bus.head()"
   ]
  },
  {
   "cell_type": "code",
   "execution_count": 17,
   "metadata": {},
   "outputs": [
    {
     "data": {
      "text/plain": [
       "Index(['business_id', 'name', 'address', 'city', 'state', 'postal_code',\n",
       "       'latitude', 'longitude', 'phone_number'],\n",
       "      dtype='object')"
      ]
     },
     "execution_count": 17,
     "metadata": {},
     "output_type": "execute_result"
    }
   ],
   "source": [
    "#3. Primary key is the 'business_id'. It sets a unique identifier for all businesses,\n",
    "#   avoiding duplicate names, postal codes, and serves as a unique data tag. \n",
    "bus.keys()"
   ]
  },
  {
   "cell_type": "markdown",
   "metadata": {},
   "source": [
    "## Examining Zipcode Data\n"
   ]
  },
  {
   "cell_type": "code",
   "execution_count": 18,
   "metadata": {},
   "outputs": [
    {
     "name": "stdout",
     "output_type": "stream",
     "text": [
      "object    1\n",
      "dtype: int64\n"
     ]
    },
    {
     "name": "stderr",
     "output_type": "stream",
     "text": [
      "c:\\users\\ted kumagai\\appdata\\local\\programs\\python\\python36\\lib\\site-packages\\ipykernel_launcher.py:1: FutureWarning: `get_dtype_counts` has been deprecated and will be removed in a future version. For DataFrames use `.dtypes.value_counts()\n",
      "  \"\"\"Entry point for launching an IPython kernel.\n"
     ]
    }
   ],
   "source": [
    "print(bus.postal_code.get_dtype_counts())"
   ]
  },
  {
   "cell_type": "code",
   "execution_count": 19,
   "metadata": {},
   "outputs": [
    {
     "data": {
      "text/html": [
       "<div>\n",
       "<style scoped>\n",
       "    .dataframe tbody tr th:only-of-type {\n",
       "        vertical-align: middle;\n",
       "    }\n",
       "\n",
       "    .dataframe tbody tr th {\n",
       "        vertical-align: top;\n",
       "    }\n",
       "\n",
       "    .dataframe thead th {\n",
       "        text-align: right;\n",
       "    }\n",
       "</style>\n",
       "<table border=\"1\" class=\"dataframe\">\n",
       "  <thead>\n",
       "    <tr style=\"text-align: right;\">\n",
       "      <th></th>\n",
       "      <th>business_id</th>\n",
       "      <th>name</th>\n",
       "      <th>address</th>\n",
       "      <th>city</th>\n",
       "      <th>state</th>\n",
       "      <th>postal_code</th>\n",
       "      <th>latitude</th>\n",
       "      <th>longitude</th>\n",
       "      <th>phone_number</th>\n",
       "    </tr>\n",
       "  </thead>\n",
       "  <tbody>\n",
       "    <tr>\n",
       "      <th>0</th>\n",
       "      <td>19</td>\n",
       "      <td>NRGIZE LIFESTYLE CAFE</td>\n",
       "      <td>1200 VAN NESS AVE, 3RD FLOOR</td>\n",
       "      <td>San Francisco</td>\n",
       "      <td>CA</td>\n",
       "      <td>94109</td>\n",
       "      <td>37.786848</td>\n",
       "      <td>-122.421547</td>\n",
       "      <td>+14157763262</td>\n",
       "    </tr>\n",
       "    <tr>\n",
       "      <th>1</th>\n",
       "      <td>24</td>\n",
       "      <td>OMNI S.F. HOTEL - 2ND FLOOR PANTRY</td>\n",
       "      <td>500 CALIFORNIA ST, 2ND  FLOOR</td>\n",
       "      <td>San Francisco</td>\n",
       "      <td>CA</td>\n",
       "      <td>94104</td>\n",
       "      <td>37.792888</td>\n",
       "      <td>-122.403135</td>\n",
       "      <td>+14156779494</td>\n",
       "    </tr>\n",
       "    <tr>\n",
       "      <th>2</th>\n",
       "      <td>31</td>\n",
       "      <td>NORMAN'S ICE CREAM AND FREEZES</td>\n",
       "      <td>2801 LEAVENWORTH ST</td>\n",
       "      <td>San Francisco</td>\n",
       "      <td>CA</td>\n",
       "      <td>94133</td>\n",
       "      <td>37.807155</td>\n",
       "      <td>-122.419004</td>\n",
       "      <td>NaN</td>\n",
       "    </tr>\n",
       "    <tr>\n",
       "      <th>3</th>\n",
       "      <td>45</td>\n",
       "      <td>CHARLIE'S DELI CAFE</td>\n",
       "      <td>3202 FOLSOM ST</td>\n",
       "      <td>San Francisco</td>\n",
       "      <td>CA</td>\n",
       "      <td>94110</td>\n",
       "      <td>37.747114</td>\n",
       "      <td>-122.413641</td>\n",
       "      <td>+14156415051</td>\n",
       "    </tr>\n",
       "    <tr>\n",
       "      <th>4</th>\n",
       "      <td>48</td>\n",
       "      <td>ART'S CAFE</td>\n",
       "      <td>747 IRVING ST</td>\n",
       "      <td>San Francisco</td>\n",
       "      <td>CA</td>\n",
       "      <td>94122</td>\n",
       "      <td>37.764013</td>\n",
       "      <td>-122.465749</td>\n",
       "      <td>+14156657440</td>\n",
       "    </tr>\n",
       "  </tbody>\n",
       "</table>\n",
       "</div>"
      ],
      "text/plain": [
       "   business_id                                name  \\\n",
       "0           19               NRGIZE LIFESTYLE CAFE   \n",
       "1           24  OMNI S.F. HOTEL - 2ND FLOOR PANTRY   \n",
       "2           31      NORMAN'S ICE CREAM AND FREEZES   \n",
       "3           45                 CHARLIE'S DELI CAFE   \n",
       "4           48                          ART'S CAFE   \n",
       "\n",
       "                         address           city state postal_code   latitude  \\\n",
       "0   1200 VAN NESS AVE, 3RD FLOOR  San Francisco    CA       94109  37.786848   \n",
       "1  500 CALIFORNIA ST, 2ND  FLOOR  San Francisco    CA       94104  37.792888   \n",
       "2           2801 LEAVENWORTH ST   San Francisco    CA       94133  37.807155   \n",
       "3                3202 FOLSOM ST   San Francisco    CA       94110  37.747114   \n",
       "4                 747 IRVING ST   San Francisco    CA       94122  37.764013   \n",
       "\n",
       "    longitude  phone_number  \n",
       "0 -122.421547  +14157763262  \n",
       "1 -122.403135  +14156779494  \n",
       "2 -122.419004           NaN  \n",
       "3 -122.413641  +14156415051  \n",
       "4 -122.465749  +14156657440  "
      ]
     },
     "execution_count": 19,
     "metadata": {},
     "output_type": "execute_result"
    }
   ],
   "source": [
    "bus.head()"
   ]
  },
  {
   "cell_type": "code",
   "execution_count": 20,
   "metadata": {},
   "outputs": [
    {
     "data": {
      "text/plain": [
       "0    bus\n",
       "dtype: object"
      ]
     },
     "execution_count": 20,
     "metadata": {},
     "output_type": "execute_result"
    }
   ],
   "source": [
    "pd.Series('bus')"
   ]
  },
  {
   "cell_type": "markdown",
   "metadata": {},
   "source": [
    "Here, looking at zip count data, if there are any NaN values, they will be filled by '?????''\n"
   ]
  },
  {
   "cell_type": "code",
   "execution_count": 21,
   "metadata": {},
   "outputs": [
    {
     "data": {
      "text/plain": [
       "postal_code\n",
       "94110        596\n",
       "94103        552\n",
       "94102        462\n",
       "94107        460\n",
       "94133        426\n",
       "94109        380\n",
       "94111        277\n",
       "94122        273\n",
       "94118        249\n",
       "94115        243\n",
       "?????        240\n",
       "94105        232\n",
       "94108        228\n",
       "94114        223\n",
       "94117        204\n",
       "94112        195\n",
       "94124        191\n",
       "94123        173\n",
       "94121        160\n",
       "94104        139\n",
       "94132        133\n",
       "94116         99\n",
       "94134         77\n",
       "94127         71\n",
       "94131         49\n",
       "94158         32\n",
       "94130          7\n",
       "94143          5\n",
       "94188          4\n",
       "94101          2\n",
       "94014          2\n",
       "94013          2\n",
       "00000          2\n",
       "CA             2\n",
       "94129          2\n",
       "941102019      1\n",
       "94120          1\n",
       "941033148      1\n",
       "94544          1\n",
       "94545          1\n",
       "94602          1\n",
       "941            1\n",
       "94080          1\n",
       "94066          1\n",
       "94621          1\n",
       "95105          1\n",
       "92672          1\n",
       "64110          1\n",
       "Ca             1\n",
       "dtype: int64"
      ]
     },
     "execution_count": 21,
     "metadata": {},
     "output_type": "execute_result"
    }
   ],
   "source": [
    "zip_counts = (bus.fillna(\"?????\")\n",
    "                 .groupby('postal_code')\n",
    "                 .size()\n",
    "                 .sort_values(ascending=False)\n",
    "             )\n",
    "\n",
    "zip_counts"
   ]
  },
  {
   "cell_type": "code",
   "execution_count": 22,
   "metadata": {},
   "outputs": [
    {
     "data": {
      "text/html": [
       "<div>\n",
       "<style scoped>\n",
       "    .dataframe tbody tr th:only-of-type {\n",
       "        vertical-align: middle;\n",
       "    }\n",
       "\n",
       "    .dataframe tbody tr th {\n",
       "        vertical-align: top;\n",
       "    }\n",
       "\n",
       "    .dataframe thead th {\n",
       "        text-align: right;\n",
       "    }\n",
       "</style>\n",
       "<table border=\"1\" class=\"dataframe\">\n",
       "  <thead>\n",
       "    <tr style=\"text-align: right;\">\n",
       "      <th></th>\n",
       "      <th>business_id</th>\n",
       "      <th>name</th>\n",
       "      <th>address</th>\n",
       "      <th>city</th>\n",
       "      <th>state</th>\n",
       "      <th>postal_code</th>\n",
       "      <th>latitude</th>\n",
       "      <th>longitude</th>\n",
       "      <th>phone_number</th>\n",
       "      <th>postal_code_5</th>\n",
       "    </tr>\n",
       "  </thead>\n",
       "  <tbody>\n",
       "    <tr>\n",
       "      <th>0</th>\n",
       "      <td>19</td>\n",
       "      <td>NRGIZE LIFESTYLE CAFE</td>\n",
       "      <td>1200 VAN NESS AVE, 3RD FLOOR</td>\n",
       "      <td>San Francisco</td>\n",
       "      <td>CA</td>\n",
       "      <td>94109</td>\n",
       "      <td>37.786848</td>\n",
       "      <td>-122.421547</td>\n",
       "      <td>+14157763262</td>\n",
       "      <td>94109</td>\n",
       "    </tr>\n",
       "    <tr>\n",
       "      <th>1</th>\n",
       "      <td>24</td>\n",
       "      <td>OMNI S.F. HOTEL - 2ND FLOOR PANTRY</td>\n",
       "      <td>500 CALIFORNIA ST, 2ND  FLOOR</td>\n",
       "      <td>San Francisco</td>\n",
       "      <td>CA</td>\n",
       "      <td>94104</td>\n",
       "      <td>37.792888</td>\n",
       "      <td>-122.403135</td>\n",
       "      <td>+14156779494</td>\n",
       "      <td>94104</td>\n",
       "    </tr>\n",
       "    <tr>\n",
       "      <th>2</th>\n",
       "      <td>31</td>\n",
       "      <td>NORMAN'S ICE CREAM AND FREEZES</td>\n",
       "      <td>2801 LEAVENWORTH ST</td>\n",
       "      <td>San Francisco</td>\n",
       "      <td>CA</td>\n",
       "      <td>94133</td>\n",
       "      <td>37.807155</td>\n",
       "      <td>-122.419004</td>\n",
       "      <td>NaN</td>\n",
       "      <td>94133</td>\n",
       "    </tr>\n",
       "    <tr>\n",
       "      <th>3</th>\n",
       "      <td>45</td>\n",
       "      <td>CHARLIE'S DELI CAFE</td>\n",
       "      <td>3202 FOLSOM ST</td>\n",
       "      <td>San Francisco</td>\n",
       "      <td>CA</td>\n",
       "      <td>94110</td>\n",
       "      <td>37.747114</td>\n",
       "      <td>-122.413641</td>\n",
       "      <td>+14156415051</td>\n",
       "      <td>94110</td>\n",
       "    </tr>\n",
       "    <tr>\n",
       "      <th>4</th>\n",
       "      <td>48</td>\n",
       "      <td>ART'S CAFE</td>\n",
       "      <td>747 IRVING ST</td>\n",
       "      <td>San Francisco</td>\n",
       "      <td>CA</td>\n",
       "      <td>94122</td>\n",
       "      <td>37.764013</td>\n",
       "      <td>-122.465749</td>\n",
       "      <td>+14156657440</td>\n",
       "      <td>94122</td>\n",
       "    </tr>\n",
       "  </tbody>\n",
       "</table>\n",
       "</div>"
      ],
      "text/plain": [
       "   business_id                                name  \\\n",
       "0           19               NRGIZE LIFESTYLE CAFE   \n",
       "1           24  OMNI S.F. HOTEL - 2ND FLOOR PANTRY   \n",
       "2           31      NORMAN'S ICE CREAM AND FREEZES   \n",
       "3           45                 CHARLIE'S DELI CAFE   \n",
       "4           48                          ART'S CAFE   \n",
       "\n",
       "                         address           city state postal_code   latitude  \\\n",
       "0   1200 VAN NESS AVE, 3RD FLOOR  San Francisco    CA       94109  37.786848   \n",
       "1  500 CALIFORNIA ST, 2ND  FLOOR  San Francisco    CA       94104  37.792888   \n",
       "2           2801 LEAVENWORTH ST   San Francisco    CA       94133  37.807155   \n",
       "3                3202 FOLSOM ST   San Francisco    CA       94110  37.747114   \n",
       "4                 747 IRVING ST   San Francisco    CA       94122  37.764013   \n",
       "\n",
       "    longitude  phone_number postal_code_5  \n",
       "0 -122.421547  +14157763262         94109  \n",
       "1 -122.403135  +14156779494         94104  \n",
       "2 -122.419004           NaN         94133  \n",
       "3 -122.413641  +14156415051         94110  \n",
       "4 -122.465749  +14156657440         94122  "
      ]
     },
     "execution_count": 22,
     "metadata": {},
     "output_type": "execute_result"
    }
   ],
   "source": [
    "#There are zip codes beyond 5 digits. So I drop any zip code with digits beyond 5.\n",
    "\n",
    "bus['postal_code_5'] = bus['postal_code'].str[:5]\n",
    "bus.head()"
   ]
  },
  {
   "cell_type": "code",
   "execution_count": 23,
   "metadata": {},
   "outputs": [
    {
     "name": "stdout",
     "output_type": "stream",
     "text": [
      "Many of the NaN resturants are chain resturants or food trucks without a local area code.\n"
     ]
    }
   ],
   "source": [
    "#This does not explain the ????? zip codes. So lets take a look.\n",
    "\n",
    "x = bus[bus[\"postal_code_5\"].isnull()]\n",
    "x\n",
    "\n",
    "print('Many of the NaN resturants are chain resturants or food trucks without a local area code.')"
   ]
  },
  {
   "cell_type": "code",
   "execution_count": 24,
   "metadata": {},
   "outputs": [
    {
     "name": "stdout",
     "output_type": "stream",
     "text": [
      "\n",
      "\n",
      "Looking into these strange buisnesses with weird zip codes,  \n",
      "buisnesses without zip codes seem to be non standard food vendors. \n",
      "\n",
      "For example:    \n",
      "94545 - Hayward. B/c VARIOUS LOACATIONS (17). It is a vending machine service. So maybe the machine is in Sanfransico, but everything\n",
      "operates out of Hayward. \n",
      "\n",
      "94609 - Oakland: The Orbit Room. There is a returant called Esther's Orbit room that was once operational in Oakland. \n",
      "Perhaps, the owners moved, or there is confusion with the two names and has been improperly entered. Or just has been oversight in general.\n",
      "\n"
     ]
    }
   ],
   "source": [
    "#lets see if any of the zip codes do not match SF area zip codes\n",
    "\n",
    "all_sf_zip_codes = [\"94102\", \"94103\", \"94104\", \"94105\", \"94107\", \"94108\"\n",
    "                    , \"94109\", \"94110\", \"94111\", \"94112\", \"94114\", \"94115\"\n",
    "                    , \"94116\", \"94117\", \"94118\", \"94119\", \"94120\", \"94121\"\n",
    "                    , \"94122\", \"94123\", \"94124\", \"94125\", \"94126\", \"94127\"\n",
    "                    , \"94128\", \"94129\", \"94130\", \"94131\", \"94132\", \"94133\"\n",
    "                    , \"94134\", \"94137\", \"94139\", \"94140\", \"94141\", \"94142\"\n",
    "                    , \"94143\", \"94144\", \"94145\", \"94146\", \"94147\", \"94151\"\n",
    "                    , \"94158\", \"94159\", \"94160\", \"94161\", \"94163\", \"94164\"\n",
    "                    , \"94172\", \"94177\", \"94188\"]\n",
    "\n",
    "weird_zip_code_businesses = bus.loc[(pd.notnull(bus.loc[:, 'postal_code_5'])) \n",
    "                                    & (~bus.postal_code_5.isin(all_sf_zip_codes))]\n",
    "\n",
    "weird_zip_code_businesses.head()\n",
    "bus['postal_code_5'] = bus['postal_code'].str.replace('94602', '94102')\n",
    "\n",
    "text = r\"\"\"\n",
    "\n",
    "Looking into these strange buisnesses with weird zip codes,  \n",
    "buisnesses without zip codes seem to be non standard food vendors. \n",
    "\n",
    "For example:    \n",
    "94545 - Hayward. B/c VARIOUS LOACATIONS (17). It is a vending machine service. So maybe the machine is in Sanfransico, but everything\n",
    "operates out of Hayward. \n",
    "\n",
    "94609 - Oakland: The Orbit Room. There is a returant called Esther's Orbit room that was once operational in Oakland. \n",
    "Perhaps, the owners moved, or there is confusion with the two names and has been improperly entered. Or just has been oversight in general.\n",
    "\"\"\"\n",
    "\n",
    "print(text)"
   ]
  },
  {
   "cell_type": "markdown",
   "metadata": {},
   "source": [
    "## Latitude and Longitude Data"
   ]
  },
  {
   "cell_type": "code",
   "execution_count": 25,
   "metadata": {},
   "outputs": [
    {
     "data": {
      "text/plain": [
       "3136"
      ]
     },
     "execution_count": 25,
     "metadata": {},
     "output_type": "execute_result"
    }
   ],
   "source": [
    "missing_latlongs = len(bus[bus['longitude'].isnull() == True])\n",
    "missing_latlongs"
   ]
  },
  {
   "cell_type": "markdown",
   "metadata": {},
   "source": [
    "Here, in the interest of time, only densely populated SF zip code data will be examined."
   ]
  },
  {
   "cell_type": "code",
   "execution_count": 26,
   "metadata": {},
   "outputs": [
    {
     "data": {
      "text/plain": [
       "postal_code_5\n",
       "94110    294\n",
       "94103    284\n",
       "94107    275\n",
       "94102    222\n",
       "94109    171\n",
       "94133    159\n",
       "94122    132\n",
       "94111    129\n",
       "94105    127\n",
       "94124    118\n",
       "94118    117\n",
       "94114    111\n",
       "94108     98\n",
       "94115     95\n",
       "94117     86\n",
       "94104     79\n",
       "94112     77\n",
       "94132     71\n",
       "94123     68\n",
       "94121     60\n",
       "94116     42\n",
       "94134     36\n",
       "94127     30\n",
       "94131     16\n",
       "dtype: int64"
      ]
     },
     "execution_count": 26,
     "metadata": {},
     "output_type": "execute_result"
    }
   ],
   "source": [
    "sf_dense_zip = [\"94102\", \"94103\", \"94104\", \"94105\", \"94107\", \"94108\",\n",
    "            \"94109\", \"94110\", \"94111\", \"94112\", \"94114\", \"94115\",\n",
    "            \"94116\", \"94117\", \"94118\", \"94121\", \"94122\", \"94123\", \n",
    "            \"94124\", \"94127\", \"94131\", \"94132\", \"94133\", \"94134\"]\n",
    "\n",
    "bus_sf = bus[bus['postal_code_5'].isin(sf_dense_zip)]\n",
    "bus_sf_1 = bus_sf[bus_sf['longitude'].isnull()]\n",
    "\n",
    "\n",
    "num_missing_in_each_zip = bus_sf_1.groupby('postal_code_5').size().sort_values(ascending=False)\n",
    "\n",
    "num_missing_in_each_zip \n"
   ]
  },
  {
   "cell_type": "code",
   "execution_count": 27,
   "metadata": {},
   "outputs": [
    {
     "name": "stderr",
     "output_type": "stream",
     "text": [
      "c:\\users\\ted kumagai\\appdata\\local\\programs\\python\\python36\\lib\\site-packages\\ipykernel_launcher.py:11: FutureWarning: Sorting because non-concatenation axis is not aligned. A future version\n",
      "of pandas will change to not sort by default.\n",
      "\n",
      "To accept the future behavior, pass 'sort=False'.\n",
      "\n",
      "To retain the current behavior and silence the warning, pass 'sort=True'.\n",
      "\n",
      "  # This is added back by InteractiveShellApp.init_path()\n"
     ]
    },
    {
     "data": {
      "text/html": [
       "<div>\n",
       "<style scoped>\n",
       "    .dataframe tbody tr th:only-of-type {\n",
       "        vertical-align: middle;\n",
       "    }\n",
       "\n",
       "    .dataframe tbody tr th {\n",
       "        vertical-align: top;\n",
       "    }\n",
       "\n",
       "    .dataframe thead th {\n",
       "        text-align: right;\n",
       "    }\n",
       "</style>\n",
       "<table border=\"1\" class=\"dataframe\">\n",
       "  <thead>\n",
       "    <tr style=\"text-align: right;\">\n",
       "      <th></th>\n",
       "      <th>null count</th>\n",
       "      <th>not null count</th>\n",
       "      <th>fraction null</th>\n",
       "    </tr>\n",
       "  </thead>\n",
       "  <tbody>\n",
       "    <tr>\n",
       "      <th>94102</th>\n",
       "      <td>222</td>\n",
       "      <td>241</td>\n",
       "      <td>0.479482</td>\n",
       "    </tr>\n",
       "    <tr>\n",
       "      <th>94103</th>\n",
       "      <td>284</td>\n",
       "      <td>268</td>\n",
       "      <td>0.514493</td>\n",
       "    </tr>\n",
       "    <tr>\n",
       "      <th>94104</th>\n",
       "      <td>79</td>\n",
       "      <td>60</td>\n",
       "      <td>0.568345</td>\n",
       "    </tr>\n",
       "    <tr>\n",
       "      <th>94105</th>\n",
       "      <td>127</td>\n",
       "      <td>105</td>\n",
       "      <td>0.547414</td>\n",
       "    </tr>\n",
       "    <tr>\n",
       "      <th>94107</th>\n",
       "      <td>275</td>\n",
       "      <td>185</td>\n",
       "      <td>0.597826</td>\n",
       "    </tr>\n",
       "    <tr>\n",
       "      <th>94108</th>\n",
       "      <td>98</td>\n",
       "      <td>130</td>\n",
       "      <td>0.429825</td>\n",
       "    </tr>\n",
       "    <tr>\n",
       "      <th>94109</th>\n",
       "      <td>171</td>\n",
       "      <td>209</td>\n",
       "      <td>0.450000</td>\n",
       "    </tr>\n",
       "    <tr>\n",
       "      <th>94110</th>\n",
       "      <td>294</td>\n",
       "      <td>302</td>\n",
       "      <td>0.493289</td>\n",
       "    </tr>\n",
       "    <tr>\n",
       "      <th>94111</th>\n",
       "      <td>129</td>\n",
       "      <td>148</td>\n",
       "      <td>0.465704</td>\n",
       "    </tr>\n",
       "    <tr>\n",
       "      <th>94112</th>\n",
       "      <td>77</td>\n",
       "      <td>118</td>\n",
       "      <td>0.394872</td>\n",
       "    </tr>\n",
       "    <tr>\n",
       "      <th>94114</th>\n",
       "      <td>111</td>\n",
       "      <td>112</td>\n",
       "      <td>0.497758</td>\n",
       "    </tr>\n",
       "    <tr>\n",
       "      <th>94115</th>\n",
       "      <td>95</td>\n",
       "      <td>148</td>\n",
       "      <td>0.390947</td>\n",
       "    </tr>\n",
       "    <tr>\n",
       "      <th>94116</th>\n",
       "      <td>42</td>\n",
       "      <td>57</td>\n",
       "      <td>0.424242</td>\n",
       "    </tr>\n",
       "    <tr>\n",
       "      <th>94117</th>\n",
       "      <td>86</td>\n",
       "      <td>118</td>\n",
       "      <td>0.421569</td>\n",
       "    </tr>\n",
       "    <tr>\n",
       "      <th>94118</th>\n",
       "      <td>117</td>\n",
       "      <td>132</td>\n",
       "      <td>0.469880</td>\n",
       "    </tr>\n",
       "    <tr>\n",
       "      <th>94121</th>\n",
       "      <td>60</td>\n",
       "      <td>100</td>\n",
       "      <td>0.375000</td>\n",
       "    </tr>\n",
       "    <tr>\n",
       "      <th>94122</th>\n",
       "      <td>132</td>\n",
       "      <td>141</td>\n",
       "      <td>0.483516</td>\n",
       "    </tr>\n",
       "    <tr>\n",
       "      <th>94123</th>\n",
       "      <td>68</td>\n",
       "      <td>105</td>\n",
       "      <td>0.393064</td>\n",
       "    </tr>\n",
       "    <tr>\n",
       "      <th>94124</th>\n",
       "      <td>118</td>\n",
       "      <td>73</td>\n",
       "      <td>0.617801</td>\n",
       "    </tr>\n",
       "    <tr>\n",
       "      <th>94127</th>\n",
       "      <td>30</td>\n",
       "      <td>41</td>\n",
       "      <td>0.422535</td>\n",
       "    </tr>\n",
       "    <tr>\n",
       "      <th>94131</th>\n",
       "      <td>16</td>\n",
       "      <td>33</td>\n",
       "      <td>0.326531</td>\n",
       "    </tr>\n",
       "    <tr>\n",
       "      <th>94132</th>\n",
       "      <td>71</td>\n",
       "      <td>62</td>\n",
       "      <td>0.533835</td>\n",
       "    </tr>\n",
       "    <tr>\n",
       "      <th>94133</th>\n",
       "      <td>159</td>\n",
       "      <td>267</td>\n",
       "      <td>0.373239</td>\n",
       "    </tr>\n",
       "    <tr>\n",
       "      <th>94134</th>\n",
       "      <td>36</td>\n",
       "      <td>41</td>\n",
       "      <td>0.467532</td>\n",
       "    </tr>\n",
       "  </tbody>\n",
       "</table>\n",
       "</div>"
      ],
      "text/plain": [
       "       null count  not null count  fraction null\n",
       "94102         222             241       0.479482\n",
       "94103         284             268       0.514493\n",
       "94104          79              60       0.568345\n",
       "94105         127             105       0.547414\n",
       "94107         275             185       0.597826\n",
       "94108          98             130       0.429825\n",
       "94109         171             209       0.450000\n",
       "94110         294             302       0.493289\n",
       "94111         129             148       0.465704\n",
       "94112          77             118       0.394872\n",
       "94114         111             112       0.497758\n",
       "94115          95             148       0.390947\n",
       "94116          42              57       0.424242\n",
       "94117          86             118       0.421569\n",
       "94118         117             132       0.469880\n",
       "94121          60             100       0.375000\n",
       "94122         132             141       0.483516\n",
       "94123          68             105       0.393064\n",
       "94124         118              73       0.617801\n",
       "94127          30              41       0.422535\n",
       "94131          16              33       0.326531\n",
       "94132          71              62       0.533835\n",
       "94133         159             267       0.373239\n",
       "94134          36              41       0.467532"
      ]
     },
     "execution_count": 27,
     "metadata": {},
     "output_type": "execute_result"
    }
   ],
   "source": [
    "#looking at null values\n",
    "bus_sf = bus[bus['postal_code_5'].isin(sf_dense_zip)]\n",
    "\n",
    "bus_sf_1 = bus_sf[bus_sf['longitude'].isnull()]\n",
    "num_missing_in_each_zip = bus_sf_1.groupby('postal_code_5').size()\n",
    "\n",
    "bus_sf_2 = bus_sf[~bus_sf['longitude'].isnull()]\n",
    "not_null_count_zip = bus_sf_2.groupby('postal_code_5').size().sort_values(ascending = False)\n",
    "\n",
    "x = pd.concat(\n",
    "[num_missing_in_each_zip, not_null_count_zip], axis = 1\n",
    ").rename(index=str, columns={0: \"null count\", 1: \"not null count\"})\n",
    "x\n",
    "\n",
    "x['fraction null'] = (x['null count'])/(x['null count'] + x['not null count'])\n",
    "x"
   ]
  },
  {
   "cell_type": "markdown",
   "metadata": {},
   "source": [
    "# Business Data Summary\n",
    "\n",
    "- Found that business id is unique across records, so there is potential for joins.\n",
    "- Errors in the zip codes. May want to drop the records with zip codes beyond SF or treat them separately. \n",
    "- Lots of missing longitude and latitude values. "
   ]
  },
  {
   "cell_type": "markdown",
   "metadata": {},
   "source": [
    "# Inspection Data"
   ]
  },
  {
   "cell_type": "code",
   "execution_count": 28,
   "metadata": {},
   "outputs": [
    {
     "data": {
      "text/html": [
       "<div>\n",
       "<style scoped>\n",
       "    .dataframe tbody tr th:only-of-type {\n",
       "        vertical-align: middle;\n",
       "    }\n",
       "\n",
       "    .dataframe tbody tr th {\n",
       "        vertical-align: top;\n",
       "    }\n",
       "\n",
       "    .dataframe thead th {\n",
       "        text-align: right;\n",
       "    }\n",
       "</style>\n",
       "<table border=\"1\" class=\"dataframe\">\n",
       "  <thead>\n",
       "    <tr style=\"text-align: right;\">\n",
       "      <th></th>\n",
       "      <th>business_id</th>\n",
       "      <th>score</th>\n",
       "      <th>date</th>\n",
       "      <th>type</th>\n",
       "    </tr>\n",
       "  </thead>\n",
       "  <tbody>\n",
       "    <tr>\n",
       "      <th>0</th>\n",
       "      <td>19</td>\n",
       "      <td>94</td>\n",
       "      <td>20160513</td>\n",
       "      <td>routine</td>\n",
       "    </tr>\n",
       "    <tr>\n",
       "      <th>1</th>\n",
       "      <td>19</td>\n",
       "      <td>94</td>\n",
       "      <td>20171211</td>\n",
       "      <td>routine</td>\n",
       "    </tr>\n",
       "    <tr>\n",
       "      <th>2</th>\n",
       "      <td>24</td>\n",
       "      <td>98</td>\n",
       "      <td>20171101</td>\n",
       "      <td>routine</td>\n",
       "    </tr>\n",
       "    <tr>\n",
       "      <th>3</th>\n",
       "      <td>24</td>\n",
       "      <td>98</td>\n",
       "      <td>20161005</td>\n",
       "      <td>routine</td>\n",
       "    </tr>\n",
       "    <tr>\n",
       "      <th>4</th>\n",
       "      <td>24</td>\n",
       "      <td>96</td>\n",
       "      <td>20160311</td>\n",
       "      <td>routine</td>\n",
       "    </tr>\n",
       "  </tbody>\n",
       "</table>\n",
       "</div>"
      ],
      "text/plain": [
       "   business_id  score      date     type\n",
       "0           19     94  20160513  routine\n",
       "1           19     94  20171211  routine\n",
       "2           24     98  20171101  routine\n",
       "3           24     98  20161005  routine\n",
       "4           24     96  20160311  routine"
      ]
     },
     "execution_count": 28,
     "metadata": {},
     "output_type": "execute_result"
    }
   ],
   "source": [
    "ins.head()"
   ]
  },
  {
   "cell_type": "code",
   "execution_count": 29,
   "metadata": {},
   "outputs": [],
   "source": [
    "# The number of rows in ins\n",
    "rows_in_table = ins.shape[0]\n",
    "rows_in_table\n",
    "\n",
    "#rows_in_table = ins\n",
    "# The number of unique business IDs in ins.\n",
    "unique_ins_ids = ins['business_id'].unique().shape[0]"
   ]
  },
  {
   "cell_type": "code",
   "execution_count": 30,
   "metadata": {},
   "outputs": [
    {
     "data": {
      "text/plain": [
       "14222"
      ]
     },
     "execution_count": 30,
     "metadata": {},
     "output_type": "execute_result"
    }
   ],
   "source": [
    "rows_in_table"
   ]
  },
  {
   "cell_type": "code",
   "execution_count": 31,
   "metadata": {},
   "outputs": [
    {
     "data": {
      "text/plain": [
       "5766"
      ]
     },
     "execution_count": 31,
     "metadata": {},
     "output_type": "execute_result"
    }
   ],
   "source": [
    "unique_ins_ids"
   ]
  },
  {
   "cell_type": "markdown",
   "metadata": {},
   "source": [
    "Now need to figure out the years the data spans. The dates in the file are formatted in strings, hence they must  be modified into an appropriate format. "
   ]
  },
  {
   "cell_type": "code",
   "execution_count": 32,
   "metadata": {},
   "outputs": [
    {
     "data": {
      "text/html": [
       "<div>\n",
       "<style scoped>\n",
       "    .dataframe tbody tr th:only-of-type {\n",
       "        vertical-align: middle;\n",
       "    }\n",
       "\n",
       "    .dataframe tbody tr th {\n",
       "        vertical-align: top;\n",
       "    }\n",
       "\n",
       "    .dataframe thead th {\n",
       "        text-align: right;\n",
       "    }\n",
       "</style>\n",
       "<table border=\"1\" class=\"dataframe\">\n",
       "  <thead>\n",
       "    <tr style=\"text-align: right;\">\n",
       "      <th></th>\n",
       "      <th>business_id</th>\n",
       "      <th>score</th>\n",
       "      <th>date</th>\n",
       "      <th>type</th>\n",
       "      <th>new_date</th>\n",
       "      <th>year</th>\n",
       "    </tr>\n",
       "  </thead>\n",
       "  <tbody>\n",
       "    <tr>\n",
       "      <th>0</th>\n",
       "      <td>19</td>\n",
       "      <td>94</td>\n",
       "      <td>20160513</td>\n",
       "      <td>routine</td>\n",
       "      <td>2016-05-13</td>\n",
       "      <td>2016</td>\n",
       "    </tr>\n",
       "    <tr>\n",
       "      <th>1</th>\n",
       "      <td>19</td>\n",
       "      <td>94</td>\n",
       "      <td>20171211</td>\n",
       "      <td>routine</td>\n",
       "      <td>2017-12-11</td>\n",
       "      <td>2017</td>\n",
       "    </tr>\n",
       "    <tr>\n",
       "      <th>2</th>\n",
       "      <td>24</td>\n",
       "      <td>98</td>\n",
       "      <td>20171101</td>\n",
       "      <td>routine</td>\n",
       "      <td>2017-11-01</td>\n",
       "      <td>2017</td>\n",
       "    </tr>\n",
       "    <tr>\n",
       "      <th>3</th>\n",
       "      <td>24</td>\n",
       "      <td>98</td>\n",
       "      <td>20161005</td>\n",
       "      <td>routine</td>\n",
       "      <td>2016-10-05</td>\n",
       "      <td>2016</td>\n",
       "    </tr>\n",
       "    <tr>\n",
       "      <th>4</th>\n",
       "      <td>24</td>\n",
       "      <td>96</td>\n",
       "      <td>20160311</td>\n",
       "      <td>routine</td>\n",
       "      <td>2016-03-11</td>\n",
       "      <td>2016</td>\n",
       "    </tr>\n",
       "  </tbody>\n",
       "</table>\n",
       "</div>"
      ],
      "text/plain": [
       "   business_id  score      date     type   new_date  year\n",
       "0           19     94  20160513  routine 2016-05-13  2016\n",
       "1           19     94  20171211  routine 2017-12-11  2017\n",
       "2           24     98  20171101  routine 2017-11-01  2017\n",
       "3           24     98  20161005  routine 2016-10-05  2016\n",
       "4           24     96  20160311  routine 2016-03-11  2016"
      ]
     },
     "execution_count": 32,
     "metadata": {},
     "output_type": "execute_result"
    }
   ],
   "source": [
    "ins['new_date'] = pd.to_datetime(ins['date'])\n",
    "ins['new_date'] = pd.to_datetime(ins['date'], format='%Y%m%d')\n",
    "ins['year'] = ins['new_date'].dt.year\n",
    "\n",
    "ins.head()"
   ]
  },
  {
   "cell_type": "code",
   "execution_count": 33,
   "metadata": {},
   "outputs": [
    {
     "data": {
      "text/plain": [
       "business_id                  94231\n",
       "score                          100\n",
       "date                      20180125\n",
       "type                       routine\n",
       "new_date       2018-01-25 00:00:00\n",
       "year                          2018\n",
       "dtype: object"
      ]
     },
     "execution_count": 33,
     "metadata": {},
     "output_type": "execute_result"
    }
   ],
   "source": [
    "ins.max()"
   ]
  },
  {
   "cell_type": "code",
   "execution_count": 34,
   "metadata": {},
   "outputs": [
    {
     "data": {
      "text/plain": [
       "business_id                     19\n",
       "score                           48\n",
       "date                      20150126\n",
       "type                     complaint\n",
       "new_date       2015-01-26 00:00:00\n",
       "year                          2015\n",
       "dtype: object"
      ]
     },
     "execution_count": 34,
     "metadata": {},
     "output_type": "execute_result"
    }
   ],
   "source": [
    "ins.min()"
   ]
  },
  {
   "cell_type": "markdown",
   "metadata": {},
   "source": [
    "3 year span."
   ]
  },
  {
   "cell_type": "markdown",
   "metadata": {},
   "source": [
    "# Inspection Score Data"
   ]
  },
  {
   "cell_type": "markdown",
   "metadata": {},
   "source": [
    "Since the insepction scores are integer values, the scores can be charted on a barchart. "
   ]
  },
  {
   "cell_type": "code",
   "execution_count": 35,
   "metadata": {},
   "outputs": [
    {
     "data": {
      "image/png": "[encoded data removed]",
      "text/plain": [
       "<Figure size 432x288 with 1 Axes>"
      ]
     },
     "metadata": {
      "needs_background": "light"
     },
     "output_type": "display_data"
    },
    {
     "name": "stdout",
     "output_type": "stream",
     "text": [
      "Nothing is belwow 50 percent or so. There is a spike of 100 scores. and also there are gaps between 90 and 100 percent. \n"
     ]
    }
   ],
   "source": [
    "scoreCts = ins['score'].value_counts(ascending=False)\n",
    "plt.bar(scoreCts.keys(), scoreCts)\n",
    "\n",
    "plt.show()\n",
    "\n",
    "print(\"Nothing is belwow 50 percent or so. There is a spike of 100 scores. and also there are gaps between 90 and 100 percent. \")"
   ]
  },
  {
   "cell_type": "markdown",
   "metadata": {},
   "source": [
    "# Worst Scored Resturants"
   ]
  },
  {
   "cell_type": "code",
   "execution_count": 36,
   "metadata": {},
   "outputs": [
    {
     "data": {
      "text/html": [
       "<div>\n",
       "<style scoped>\n",
       "    .dataframe tbody tr th:only-of-type {\n",
       "        vertical-align: middle;\n",
       "    }\n",
       "\n",
       "    .dataframe tbody tr th {\n",
       "        vertical-align: top;\n",
       "    }\n",
       "\n",
       "    .dataframe thead th {\n",
       "        text-align: right;\n",
       "    }\n",
       "</style>\n",
       "<table border=\"1\" class=\"dataframe\">\n",
       "  <thead>\n",
       "    <tr style=\"text-align: right;\">\n",
       "      <th></th>\n",
       "      <th>business_id</th>\n",
       "      <th>score</th>\n",
       "      <th>date</th>\n",
       "      <th>year</th>\n",
       "    </tr>\n",
       "  </thead>\n",
       "  <tbody>\n",
       "    <tr>\n",
       "      <th>count</th>\n",
       "      <td>14222.000000</td>\n",
       "      <td>14222.000000</td>\n",
       "      <td>1.422200e+04</td>\n",
       "      <td>14222.000000</td>\n",
       "    </tr>\n",
       "    <tr>\n",
       "      <th>mean</th>\n",
       "      <td>45138.752637</td>\n",
       "      <td>90.697370</td>\n",
       "      <td>2.016242e+07</td>\n",
       "      <td>2016.174167</td>\n",
       "    </tr>\n",
       "    <tr>\n",
       "      <th>std</th>\n",
       "      <td>34497.913056</td>\n",
       "      <td>8.088705</td>\n",
       "      <td>8.082778e+03</td>\n",
       "      <td>0.807443</td>\n",
       "    </tr>\n",
       "    <tr>\n",
       "      <th>min</th>\n",
       "      <td>19.000000</td>\n",
       "      <td>48.000000</td>\n",
       "      <td>2.015013e+07</td>\n",
       "      <td>2015.000000</td>\n",
       "    </tr>\n",
       "    <tr>\n",
       "      <th>25%</th>\n",
       "      <td>5634.000000</td>\n",
       "      <td>86.000000</td>\n",
       "      <td>2.016021e+07</td>\n",
       "      <td>2016.000000</td>\n",
       "    </tr>\n",
       "    <tr>\n",
       "      <th>50%</th>\n",
       "      <td>61462.000000</td>\n",
       "      <td>92.000000</td>\n",
       "      <td>2.016091e+07</td>\n",
       "      <td>2016.000000</td>\n",
       "    </tr>\n",
       "    <tr>\n",
       "      <th>75%</th>\n",
       "      <td>78074.000000</td>\n",
       "      <td>96.000000</td>\n",
       "      <td>2.017061e+07</td>\n",
       "      <td>2017.000000</td>\n",
       "    </tr>\n",
       "    <tr>\n",
       "      <th>max</th>\n",
       "      <td>94231.000000</td>\n",
       "      <td>100.000000</td>\n",
       "      <td>2.018012e+07</td>\n",
       "      <td>2018.000000</td>\n",
       "    </tr>\n",
       "  </tbody>\n",
       "</table>\n",
       "</div>"
      ],
      "text/plain": [
       "        business_id         score          date          year\n",
       "count  14222.000000  14222.000000  1.422200e+04  14222.000000\n",
       "mean   45138.752637     90.697370  2.016242e+07   2016.174167\n",
       "std    34497.913056      8.088705  8.082778e+03      0.807443\n",
       "min       19.000000     48.000000  2.015013e+07   2015.000000\n",
       "25%     5634.000000     86.000000  2.016021e+07   2016.000000\n",
       "50%    61462.000000     92.000000  2.016091e+07   2016.000000\n",
       "75%    78074.000000     96.000000  2.017061e+07   2017.000000\n",
       "max    94231.000000    100.000000  2.018012e+07   2018.000000"
      ]
     },
     "execution_count": 36,
     "metadata": {},
     "output_type": "execute_result"
    }
   ],
   "source": [
    "x = bus.copy()\n",
    "x = x[['business_id','name', 'address']]\n",
    "ins_named = pd.merge(ins, x, how = 'left', on= \"business_id\")\n",
    "\n",
    "ins_named.describe()"
   ]
  },
  {
   "cell_type": "code",
   "execution_count": 37,
   "metadata": {},
   "outputs": [
    {
     "data": {
      "text/html": [
       "<div>\n",
       "<style scoped>\n",
       "    .dataframe tbody tr th:only-of-type {\n",
       "        vertical-align: middle;\n",
       "    }\n",
       "\n",
       "    .dataframe tbody tr th {\n",
       "        vertical-align: top;\n",
       "    }\n",
       "\n",
       "    .dataframe thead th {\n",
       "        text-align: right;\n",
       "    }\n",
       "</style>\n",
       "<table border=\"1\" class=\"dataframe\">\n",
       "  <thead>\n",
       "    <tr style=\"text-align: right;\">\n",
       "      <th></th>\n",
       "      <th>score</th>\n",
       "    </tr>\n",
       "  </thead>\n",
       "  <tbody>\n",
       "    <tr>\n",
       "      <th>count</th>\n",
       "      <td>5766.000000</td>\n",
       "    </tr>\n",
       "    <tr>\n",
       "      <th>mean</th>\n",
       "      <td>5.636663</td>\n",
       "    </tr>\n",
       "    <tr>\n",
       "      <th>std</th>\n",
       "      <td>6.151905</td>\n",
       "    </tr>\n",
       "    <tr>\n",
       "      <th>min</th>\n",
       "      <td>0.000000</td>\n",
       "    </tr>\n",
       "    <tr>\n",
       "      <th>25%</th>\n",
       "      <td>0.000000</td>\n",
       "    </tr>\n",
       "    <tr>\n",
       "      <th>50%</th>\n",
       "      <td>4.000000</td>\n",
       "    </tr>\n",
       "    <tr>\n",
       "      <th>75%</th>\n",
       "      <td>8.000000</td>\n",
       "    </tr>\n",
       "    <tr>\n",
       "      <th>max</th>\n",
       "      <td>39.000000</td>\n",
       "    </tr>\n",
       "  </tbody>\n",
       "</table>\n",
       "</div>"
      ],
      "text/plain": [
       "             score\n",
       "count  5766.000000\n",
       "mean      5.636663\n",
       "std       6.151905\n",
       "min       0.000000\n",
       "25%       0.000000\n",
       "50%       4.000000\n",
       "75%       8.000000\n",
       "max      39.000000"
      ]
     },
     "execution_count": 37,
     "metadata": {},
     "output_type": "execute_result"
    }
   ],
   "source": [
    "def swing(series):\n",
    "    swing = series.max()-series.min()\n",
    "    return swing\n",
    "\n",
    "s_frame = ins_named['score'].groupby(ins_named['business_id']).agg(swing).to_frame()\n",
    "\n",
    "s_frame.describe()"
   ]
  },
  {
   "cell_type": "markdown",
   "metadata": {},
   "source": [
    "# Score Variance. "
   ]
  },
  {
   "cell_type": "markdown",
   "metadata": {},
   "source": [
    "Resturants have at least 2 inspections a year. Therefore, I made a scatter and histogram plot to visualize the data. "
   ]
  },
  {
   "cell_type": "code",
   "execution_count": 38,
   "metadata": {},
   "outputs": [
    {
     "data": {
      "image/png": "[encoded data removed]",
      "text/plain": [
       "<Figure size 432x288 with 1 Axes>"
      ]
     },
     "metadata": {
      "needs_background": "light"
     },
     "output_type": "display_data"
    }
   ],
   "source": [
    "ins2016 = ins[ins['year'] == 2016]\n",
    "\n",
    "\n",
    "def group_to_list(group):\n",
    "    return list(group)\n",
    "ins2016 = ins2016.sort_values('new_date').groupby('business_id').filter(lambda x: x ['year'].sum() == 4032).groupby('business_id')[['score']].agg(group_to_list).rename(index = str, columns = {'score': 'score_pair'})\n",
    "\n",
    "scores_pairs_by_business = ins2016\n",
    "\n",
    "first_score = scores_pairs_by_business['score_pair'].map(lambda x: x[0])\n",
    "second_score = scores_pairs_by_business['score_pair'].map(lambda x: x[1])\n",
    "\n",
    "plt.scatter(first_score, second_score, alpha = 0.5, facecolors = 'none', edgecolors = 'blue', s=25)\n",
    "\n",
    "\n",
    "plt.xlim(xmin = 56, xmax = 100)\n",
    "plt.ylim(ymin = 56, ymax = 100)\n",
    "plt.plot([55,100], [55,100], color = 'r')\n",
    "\n",
    "plt.xlabel('first score')\n",
    "plt.ylabel('second score')\n",
    "plt.show()"
   ]
  },
  {
   "cell_type": "code",
   "execution_count": 39,
   "metadata": {},
   "outputs": [
    {
     "data": {
      "image/png": "[encoded data removed]",
      "text/plain": [
       "<Figure size 432x288 with 1 Axes>"
      ]
     },
     "metadata": {
      "needs_background": "light"
     },
     "output_type": "display_data"
    }
   ],
   "source": [
    "plt.hist(second_score - first_score, bins=30)\n",
    "plt.show()"
   ]
  },
  {
   "cell_type": "markdown",
   "metadata": {},
   "source": [
    "## Summary of the Inspections Data\n",
    "\n",
    "- By joining the business and inspection data, we identified the name of the restaurant with the worst rating and optionally the names of the restaurants with the best rating.\n",
    "\n",
    "- Examined the relationship between the scores when a restaurant has    multipleinspections in a year. "
   ]
  },
  {
   "cell_type": "code",
   "execution_count": null,
   "metadata": {},
   "outputs": [],
   "source": []
  }
 ],
 "metadata": {
  "kernelspec": {
   "display_name": "Python 3",
   "language": "python",
   "name": "python3"
  },
  "language_info": {
   "codemirror_mode": {
    "name": "ipython",
    "version": 3
   },
   "file_extension": ".py",
   "mimetype": "text/x-python",
   "name": "python",
   "nbconvert_exporter": "python",
   "pygments_lexer": "ipython3",
   "version": "3.6.0"
  }
 },
 "nbformat": 4,
 "nbformat_minor": 2
}
